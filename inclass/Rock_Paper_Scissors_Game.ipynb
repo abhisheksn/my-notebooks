{
  "nbformat": 4,
  "nbformat_minor": 0,
  "metadata": {
    "colab": {
      "name": "Rock-Paper-Scissors-Game.ipynb",
      "provenance": [],
      "authorship_tag": "ABX9TyOFLGKgU81b1Fi8yDVf7a2T",
      "include_colab_link": true
    },
    "kernelspec": {
      "name": "python3",
      "display_name": "Python 3"
    },
    "language_info": {
      "name": "python"
    }
  },
  "cells": [
    {
      "cell_type": "markdown",
      "metadata": {
        "id": "view-in-github",
        "colab_type": "text"
      },
      "source": [
        "<a href=\"https://colab.research.google.com/github/abhisheksn/my-notebooks/blob/main/inclass/Rock_Paper_Scissors_Game.ipynb\" target=\"_parent\"><img src=\"https://colab.research.google.com/assets/colab-badge.svg\" alt=\"Open In Colab\"/></a>"
      ]
    },
    {
      "cell_type": "markdown",
      "metadata": {
        "id": "hwadcgzk5b8b"
      },
      "source": [
        "##Rock, Paper, Scissors game"
      ]
    },
    {
      "cell_type": "code",
      "metadata": {
        "colab": {
          "base_uri": "https://localhost:8080/"
        },
        "id": "jZ1mrYTI5aFu",
        "outputId": "47c09385-546b-4c0d-8a0e-067035f06286"
      },
      "source": [
        "import random\n",
        "username = input(\"Enter Username: \")\n",
        "user_choice = input(\"Please choose either 'rock', 'paper' or 'scissors': \")\n",
        "if (user_choice == \"rock\") or (user_choice == \"paper\") or (user_choice == \"scissors\"):\n",
        "  print(\"Valid input\")\n",
        "else:\n",
        "  print(\"Invalid input. Please try again!\")\n",
        "  !kill -9 -1\n",
        "valid_options = [\"rock\", \"paper\", \"scissors\"]\n",
        "computer_choice = random.choice(valid_options)\n",
        "if user_choice == computer_choice:\n",
        "    result_display = (\"Both players selected {}. The game is a tie.\".format(user_choice)) #source: https://www.programiz.com/python-programming/input-output-import\n",
        "elif user_choice == \"rock\" and computer_choice == \"paper\":\n",
        "    result_display = \"Paper covers rock. Oh no! The computer won. Try again.\"\n",
        "elif user_choice == \"rock\" and computer_choice == \"scissors\":\n",
        "    result_display = \"Rock smashes scissors. Congrats! You won.\"\n",
        "elif user_choice == \"paper\" and computer_choice == \"scissors\":\n",
        "    result_display = \"Scissors cuts paper. The computer won. Try again.\"\n",
        "elif user_choice == \"paper\" and computer_choice == \"rock\":\n",
        "    result_display = \"Paper covers rock. Congrats! You won.\"\n",
        "elif user_choice == \"scissors\" and computer_choice == \"rock\":\n",
        "    result_display = \"Rock smashes scissors. Oh no! The computer won. Try again.\"\n",
        "elif user_choice == \"scissors\" and computer_choice == \"paper\":\n",
        "    result_display = \"Scissors cuts paper. Congrats! You won.\"\n",
        "print(\"---------------\")\n",
        "print(\"Hello {}, lets play Rock, Paper, Scissors!\".format(username)) #source: https://www.programiz.com/python-programming/input-output-import\n",
        "print(\"---------------\")\n",
        "print(\"Rock, Paper, Scissors, Shoot!\")\n",
        "print(\"---------------\")\n",
        "print(\"You chose: \",user_choice)\n",
        "print(\"The computer chose: \",computer_choice)\n",
        "print(\"---------------\")\n",
        "print(result_display)\n",
        "print(\"---------------\")\n",
        "print(\"Thanks for playing. Hope you liked the game.\")"
      ],
      "execution_count": 1,
      "outputs": [
        {
          "output_type": "stream",
          "text": [
            "Enter Username: Abhishek\n",
            "Please choose either 'rock', 'paper' or 'scissors': rock\n",
            "Valid input\n",
            "---------------\n",
            "Hello Abhishek, lets play Rock, Paper, Scissors!\n",
            "---------------\n",
            "Rock, Paper, Scissors, Shoot!\n",
            "---------------\n",
            "You chose:  rock\n",
            "The computer chose:  paper\n",
            "---------------\n",
            "Paper covers rock. Oh no! The computer won. Try again.\n",
            "---------------\n",
            "Thanks for playing. Hope you liked the game.\n"
          ],
          "name": "stdout"
        }
      ]
    }
  ]
}