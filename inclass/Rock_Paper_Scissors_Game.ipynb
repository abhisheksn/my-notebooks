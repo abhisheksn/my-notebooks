{
  "nbformat": 4,
  "nbformat_minor": 0,
  "metadata": {
    "colab": {
      "name": "Rock-Paper-Scissors-Game.ipynb",
      "provenance": [],
      "collapsed_sections": [],
      "authorship_tag": "ABX9TyMwSzwrSTvJZkwu6eq8gZik",
      "include_colab_link": true
    },
    "kernelspec": {
      "name": "python3",
      "display_name": "Python 3"
    },
    "language_info": {
      "name": "python"
    }
  },
  "cells": [
    {
      "cell_type": "markdown",
      "metadata": {
        "id": "view-in-github",
        "colab_type": "text"
      },
      "source": [
        "<a href=\"https://colab.research.google.com/github/abhisheksn/my-notebooks/blob/main/inclass/Rock_Paper_Scissors_Game.ipynb\" target=\"_parent\"><img src=\"https://colab.research.google.com/assets/colab-badge.svg\" alt=\"Open In Colab\"/></a>"
      ]
    },
    {
      "cell_type": "markdown",
      "metadata": {
        "id": "hwadcgzk5b8b"
      },
      "source": [
        "# Rock, Paper, Scissors Shoot!\n",
        "\n",
        "A fun game of Rock, Paper, Scissors.\n",
        "\n",
        "## Prerequisites\n",
        "\n",
        "  + Anaconda 3.7+\n",
        "  + Python 3.7+\n",
        "  + Pip\n",
        "\n",
        "## Installation\n",
        "\n",
        "Fork this [remote repository](https://github.com/abhisheksn/rock-paper-scissors-game) under your own control, then \"clone\" or download your remote copy onto your local computer.\n",
        "\n",
        "Then navigate there from the command line (subsequent commands assume you are running them from the local repository's root directory):\n",
        "\n",
        "```\n",
        "cd ~/Desktop/rock-paper-scissors-game\n",
        "```\n",
        "\n",
        "## Create Environment\n",
        "Use Anaconda to create and activate a new virtual environment, perhaps called \"my-game-env\":\n",
        "```\n",
        "conda create -n my-game-env python=3.8 #(first time only)\n",
        "```\n",
        "```\n",
        "conda activate my-game-env\n",
        "```\n",
        "## Install Packages\n",
        "After activating the virtual environment, install package dependencies (see the [\"requirements.txt\"](/requirements.txt) file):\n",
        "```\n",
        "pip install -r requirements.txt\n",
        "```\n",
        "## Setup\n",
        "\n",
        "In the root directory of your local repository, create a new file called \".env\", and update the contents of the \".env\" file to specify your desired username:\n",
        "\n",
        "    PLAYER_NAME=\"Jon Snow\"\n",
        "\n",
        "> NOTE: the \".env\" file is usually the place for passing configuration options and secret credentials, so as a best practice we don't upload this file to version control (which is accomplished via a corresponding entry in the [\".gitignore\"](/.gitignore) file). This means each person who uses our code needs to create their own local \".env\" file.\n",
        "\n",
        "## Run Python Script\n",
        "```\n",
        "python game.py\n",
        "```\n",
        "\n",
        "> NOTE: if you see an error like \"ModuleNotFoundError: No module named '...'\", it's because the given package isn't installed, so run the `pip` command above to ensure that package has been installed into the virtual environment.\n",
        "\n",
        "## Provide User Input\n",
        "\n",
        "Choose rock, paper or scissors.\n",
        "\n",
        "The game should run as intended. Enjoy!\n"
      ]
    },
    {
      "cell_type": "code",
      "metadata": {
        "colab": {
          "base_uri": "https://localhost:8080/"
        },
        "id": "iwIbq4BvZjIQ",
        "outputId": "1e1fcb2d-faa1-4ac9-80b6-4cacc42cc40b"
      },
      "source": [
        "import random\n",
        "username = input(\"Enter Username: \")\n",
        "user_choice = input(\"Hello {}! Please choose either 'rock', 'paper' or 'scissors': \".format(username)) #source: https://www.programiz.com/python-programming/input-output-import\n",
        "user_choice = user_choice.lower()\n",
        "if (user_choice == \"rock\") or (user_choice == \"paper\") or (user_choice == \"scissors\"):\n",
        "  print(\"Valid input\")\n",
        "else:\n",
        "  print(\"Invalid input. Please try again!\")\n",
        "  !kill -9 -1\n",
        "valid_options = [\"rock\", \"paper\", \"scissors\"]\n",
        "computer_choice = random.choice(valid_options)\n",
        "if user_choice == computer_choice:\n",
        "  result_display = (\"Both players selected {}. The game is a tie.\".format(user_choice)) #source: https://www.programiz.com/python-programming/input-output-import\n",
        "elif user_choice == \"rock\" and computer_choice == \"scissors\":\n",
        "  result_display = \"Rock smashes scissors. Congrats! You won.\"\n",
        "elif user_choice == \"paper\" and computer_choice == \"rock\":\n",
        "  result_display = \"Paper covers rock. Congrats! You won.\"\n",
        "elif user_choice == \"scissors\" and computer_choice == \"paper\":\n",
        "  result_display = \"Scissors cuts paper. Congrats! You won.\"\n",
        "else:\n",
        "  result_display = \"Oh no! The computer won. Try again?\"\n",
        "print(\"---------------\")\n",
        "print(\"Let's play Rock, Paper, Scissors!\") \n",
        "print(\"---------------\")\n",
        "print(\"Rock, Paper, Scissors, Shoot!\")\n",
        "print(\"---------------\")\n",
        "print(\"You chose: \",user_choice)\n",
        "print(\"The computer chose: \",computer_choice)\n",
        "print(\"---------------\")\n",
        "print(result_display)\n",
        "print(\"---------------\")\n",
        "print(\"Thanks for playing. Hope you liked the game.\")"
      ],
      "execution_count": 1,
      "outputs": [
        {
          "output_type": "stream",
          "text": [
            "Enter Username: Abhi\n",
            "Hello Abhi! Please choose either 'rock', 'paper' or 'scissors': rock\n",
            "Valid input\n",
            "---------------\n",
            "Let's play Rock, Paper, Scissors!\n",
            "---------------\n",
            "Rock, Paper, Scissors, Shoot!\n",
            "---------------\n",
            "You chose:  rock\n",
            "The computer chose:  scissors\n",
            "---------------\n",
            "Rock smashes scissors. Congrats! You won.\n",
            "---------------\n",
            "Thanks for playing. Hope you liked the game.\n"
          ],
          "name": "stdout"
        }
      ]
    }
  ]
}