{
  "nbformat": 4,
  "nbformat_minor": 0,
  "metadata": {
    "colab": {
      "name": "Rock-Paper-Scissors-Game.ipynb",
      "provenance": [],
      "collapsed_sections": [],
      "authorship_tag": "ABX9TyNQQ7gDMeaqDwB2BuoEqiD4",
      "include_colab_link": true
    },
    "kernelspec": {
      "name": "python3",
      "display_name": "Python 3"
    },
    "language_info": {
      "name": "python"
    }
  },
  "cells": [
    {
      "cell_type": "markdown",
      "metadata": {
        "id": "view-in-github",
        "colab_type": "text"
      },
      "source": [
        "<a href=\"https://colab.research.google.com/github/abhisheksn/my-notebooks/blob/main/inclass/Rock_Paper_Scissors_Game.ipynb\" target=\"_parent\"><img src=\"https://colab.research.google.com/assets/colab-badge.svg\" alt=\"Open In Colab\"/></a>"
      ]
    },
    {
      "cell_type": "markdown",
      "metadata": {
        "id": "hwadcgzk5b8b"
      },
      "source": [
        "##Rock, Paper, Scissors game"
      ]
    },
    {
      "cell_type": "code",
      "metadata": {
        "colab": {
          "base_uri": "https://localhost:8080/"
        },
        "id": "x74armP7N6B-",
        "outputId": "fedad1f4-766d-4dfe-9d98-efead9f937ef"
      },
      "source": [
        "import random\n",
        "username = input(\"Enter Username: \")\n",
        "user_choice = input(\"Hello {}! Please choose either 'rock', 'paper' or 'scissors': \".format(username)) #source: https://www.programiz.com/python-programming/input-output-import\n",
        "user_choice = user_choice.lower()\n",
        "if (user_choice == \"rock\") or (user_choice == \"paper\") or (user_choice == \"scissors\"):\n",
        "  print(\"Valid input\")\n",
        "else:\n",
        "  print(\"Invalid input. Please try again!\")\n",
        "  !kill -9 -1\n",
        "valid_options = [\"rock\", \"paper\", \"scissors\"]\n",
        "computer_choice = random.choice(valid_options)\n",
        "print(\"---------------\")\n",
        "print(\"Let's play Rock, Paper, Scissors!\") \n",
        "print(\"---------------\")\n",
        "print(\"Rock, Paper, Scissors, Shoot!\")\n",
        "print(\"---------------\")\n",
        "print(\"You chose: \",user_choice)\n",
        "print(\"The computer chose: \",computer_choice)\n",
        "print(\"---------------\")\n",
        "winners = {\n",
        "    \"rock\": {\n",
        "        \"rock\": None,\n",
        "        \"paper\": \"paper\",\n",
        "        \"scissors\": \"rock\",\n",
        "    },\n",
        "    \"paper\": {\n",
        "        \"rock\": \"paper\",\n",
        "        \"paper\": None,\n",
        "        \"scissors\": \"scissors\",\n",
        "    },\n",
        "    \"scissors\": {\n",
        "        \"rock\": \"rock\",\n",
        "        \"paper\": \"scissors\",\n",
        "        \"scissors\": None,\n",
        "    }\n",
        "}\n",
        "winner = winners[user_choice][computer_choice]\n",
        "if winner == user_choice:\n",
        "    print(\"YOU WON!\")\n",
        "elif winner == computer_choice:\n",
        "    print(\"YOU LOST\")\n",
        "else:\n",
        "    print(\"TIE\")\n",
        "print(\"---------------\")\n",
        "print(\"Thanks for playing. Hope you liked the game.\")"
      ],
      "execution_count": null,
      "outputs": [
        {
          "output_type": "stream",
          "text": [
            "Enter Username: Abhi\n",
            "Hello Abhi! Please choose either 'rock', 'paper' or 'scissors': Rock\n",
            "Valid input\n",
            "---------------\n",
            "Let's play Rock, Paper, Scissors!\n",
            "---------------\n",
            "Rock, Paper, Scissors, Shoot!\n",
            "---------------\n",
            "You chose:  rock\n",
            "The computer chose:  rock\n",
            "---------------\n",
            "TIE\n",
            "---------------\n",
            "Thanks for playing. Hope you liked the game.\n"
          ],
          "name": "stdout"
        }
      ]
    },
    {
      "cell_type": "code",
      "metadata": {
        "colab": {
          "base_uri": "https://localhost:8080/"
        },
        "id": "iwIbq4BvZjIQ",
        "outputId": "9f984aee-c2f4-49cc-f0f6-46d413c80f4c"
      },
      "source": [
        "import random\n",
        "username = input(\"Enter Username: \")\n",
        "user_choice = input(\"Hello {}! Please choose either 'rock', 'paper' or 'scissors': \".format(username)) #source: https://www.programiz.com/python-programming/input-output-import\n",
        "user_choice = user_choice.lower()\n",
        "if (user_choice == \"rock\") or (user_choice == \"paper\") or (user_choice == \"scissors\"):\n",
        "  print(\"Valid input\")\n",
        "else:\n",
        "  print(\"Invalid input. Please try again!\")\n",
        "  !kill -9 -1\n",
        "valid_options = [\"rock\", \"paper\", \"scissors\"]\n",
        "computer_choice = random.choice(valid_options)\n",
        "if user_choice == computer_choice:\n",
        "  result_display = (\"Both players selected {}. The game is a tie.\".format(user_choice)) #source: https://www.programiz.com/python-programming/input-output-import\n",
        "elif user_choice == \"rock\" and computer_choice == \"scissors\":\n",
        "  result_display = \"Rock smashes scissors. Congrats! You won.\"\n",
        "elif user_choice == \"paper\" and computer_choice == \"rock\":\n",
        "  result_display = \"Paper covers rock. Congrats! You won.\"\n",
        "elif user_choice == \"scissors\" and computer_choice == \"paper\":\n",
        "  result_display = \"Scissors cuts paper. Congrats! You won.\"\n",
        "else:\n",
        "  result_display = \"Oh no! The computer won. Try again?\"\n",
        "print(\"---------------\")\n",
        "print(\"Let's play Rock, Paper, Scissors!\") \n",
        "print(\"---------------\")\n",
        "print(\"Rock, Paper, Scissors, Shoot!\")\n",
        "print(\"---------------\")\n",
        "print(\"You chose: \",user_choice)\n",
        "print(\"The computer chose: \",computer_choice)\n",
        "print(\"---------------\")\n",
        "print(result_display)\n",
        "print(\"---------------\")\n",
        "print(\"Thanks for playing. Hope you liked the game.\")"
      ],
      "execution_count": null,
      "outputs": [
        {
          "output_type": "stream",
          "text": [
            "Enter Username: Abhi\n",
            "Hello Abhi! Please choose either 'rock', 'paper' or 'scissors': paper\n",
            "Valid input\n",
            "---------------\n",
            "Let's play Rock, Paper, Scissors!\n",
            "---------------\n",
            "Rock, Paper, Scissors, Shoot!\n",
            "---------------\n",
            "You chose:  paper\n",
            "The computer chose:  rock\n",
            "---------------\n",
            "Paper covers rock. Congrats! You won.\n",
            "---------------\n",
            "Thanks for playing. Hope you liked the game.\n"
          ],
          "name": "stdout"
        }
      ]
    }
  ]
}