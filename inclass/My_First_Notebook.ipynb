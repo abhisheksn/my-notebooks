{
  "nbformat": 4,
  "nbformat_minor": 0,
  "metadata": {
    "colab": {
      "name": "My First Notebook",
      "provenance": [],
      "collapsed_sections": [],
      "authorship_tag": "ABX9TyPf9T6K/SjYNyDb1VmNdijU",
      "include_colab_link": true
    },
    "kernelspec": {
      "name": "python3",
      "display_name": "Python 3"
    },
    "language_info": {
      "name": "python"
    }
  },
  "cells": [
    {
      "cell_type": "markdown",
      "metadata": {
        "id": "view-in-github",
        "colab_type": "text"
      },
      "source": [
        "<a href=\"https://colab.research.google.com/github/abhisheksn/my-notebooks/blob/main/inclass/My_First_Notebook.ipynb\" target=\"_parent\"><img src=\"https://colab.research.google.com/assets/colab-badge.svg\" alt=\"Open In Colab\"/></a>"
      ]
    },
    {
      "cell_type": "markdown",
      "metadata": {
        "id": "8qW4QpkcEJsi"
      },
      "source": [
        "# My First Notebook!\n",
        "\n",
        "This is a text cell. It uses the markdown language. The line above is a heading, starting with the # sign. Don't be confused that # means something different in .md and .py files.\n",
        "\n",
        "We can make links like [this](https://github.com/prof-rossetti/intro-to-python).\n",
        "\n",
        "And lists too:\n",
        "\n",
        "  + Item 1\n",
        "  + Item 2\n",
        "  + Item 3\n",
        "\n",
        "For more information about Markdown syntax, see the [Markdown Guide](https://guides.github.com/pdfs/markdown-cheatsheet-online.pdf).\n",
        "\n",
        "```\n",
        "cd ~/Desktop\n",
        "```"
      ]
    },
    {
      "cell_type": "code",
      "metadata": {
        "colab": {
          "base_uri": "https://localhost:8080/"
        },
        "id": "xGdJsOHCDoIE",
        "outputId": "a960a3eb-b02b-4c94-f49d-22d7203832fc"
      },
      "source": [
        "# This is some example python code\n",
        "# These lines starting with # are \"comments\"\n",
        "# Don't be confused that # means something different in .md files than .py files\n",
        "\n",
        "print(\"HELLO WORLD!\")\n",
        "\n",
        "x = 2 + 2\n",
        "print(x)"
      ],
      "execution_count": null,
      "outputs": [
        {
          "output_type": "stream",
          "text": [
            "HELLO WORLD!\n",
            "4\n"
          ],
          "name": "stdout"
        }
      ]
    },
    {
      "cell_type": "code",
      "metadata": {
        "colab": {
          "base_uri": "https://localhost:8080/"
        },
        "id": "Odbe3gJZKkYx",
        "outputId": "6c1f9f0b-2326-41bf-b4bd-4755ddb3713b"
      },
      "source": [
        "print(x)"
      ],
      "execution_count": null,
      "outputs": [
        {
          "output_type": "stream",
          "text": [
            "4\n"
          ],
          "name": "stdout"
        }
      ]
    },
    {
      "cell_type": "code",
      "metadata": {
        "colab": {
          "base_uri": "https://localhost:8080/"
        },
        "id": "KBh53ohBKyW0",
        "outputId": "6031b484-f6c8-44b7-84fc-0732845ccd94"
      },
      "source": [
        "msg = \"Hello World!\"\n",
        "print(msg)"
      ],
      "execution_count": null,
      "outputs": [
        {
          "output_type": "stream",
          "text": [
            "Hello World!\n"
          ],
          "name": "stdout"
        }
      ]
    },
    {
      "cell_type": "code",
      "metadata": {
        "colab": {
          "base_uri": "https://localhost:8080/"
        },
        "id": "GcESdZUdLAva",
        "outputId": "3b5c1d24-5303-4b6c-c108-a9f473479b50"
      },
      "source": [
        "x+8"
      ],
      "execution_count": null,
      "outputs": [
        {
          "output_type": "execute_result",
          "data": {
            "text/plain": [
              "12"
            ]
          },
          "metadata": {
            "tags": []
          },
          "execution_count": 6
        }
      ]
    },
    {
      "cell_type": "code",
      "metadata": {
        "colab": {
          "base_uri": "https://localhost:8080/"
        },
        "id": "G-bDg2TZdDef",
        "outputId": "d802e86a-dbb0-48b6-a5ed-bcabe928e6a2"
      },
      "source": [
        "seconds_in_a_day = 24 * 60 * 60\n",
        "seconds_in_a_day"
      ],
      "execution_count": null,
      "outputs": [
        {
          "output_type": "execute_result",
          "data": {
            "text/plain": [
              "86400"
            ]
          },
          "metadata": {
            "tags": []
          },
          "execution_count": 1
        }
      ]
    },
    {
      "cell_type": "code",
      "metadata": {
        "colab": {
          "base_uri": "https://localhost:8080/"
        },
        "id": "VrD_5O2gdM80",
        "outputId": "841e259c-9b68-4b9e-8b96-9955172a6812"
      },
      "source": [
        "\n",
        "monthly_unit_sales = 10000\n",
        "unit_price = 200\n",
        "revenue = monthly_unit_sales * unit_price\n",
        "print(revenue)\n",
        "\n",
        "area_sales = (100, 200, 300, 400)\n",
        "print(sum(area_sales))\n",
        "\n",
        "if(monthly_unit_sales == sum(area_sales)):\n",
        "  print(\"The monthly unit sales is accurate\")\n",
        "else:\n",
        "  print(\"The monthly unit sales is not accurate\")\n",
        "\n",
        "def calculate_area_of_rectangle(length, width):\n",
        "  \"\"\"Parameters:\n",
        "        length(int)\n",
        "        width(int)\"\"\"\n",
        "  return length * width\n",
        "\n",
        "print(calculate_area_of_rectangle(3,6))\n",
        "print(calculate_area_of_rectangle(4,6))"
      ],
      "execution_count": null,
      "outputs": [
        {
          "output_type": "stream",
          "text": [
            "2000000\n",
            "1000\n",
            "The monthly unit sales is not accurate\n",
            "18\n",
            "24\n"
          ],
          "name": "stdout"
        }
      ]
    },
    {
      "cell_type": "code",
      "metadata": {
        "colab": {
          "base_uri": "https://localhost:8080/"
        },
        "id": "m7J6NqUHkHoR",
        "outputId": "d608a2b3-ba45-4dc5-9eaa-cca37e24791a"
      },
      "source": [
        "print(calculate_area_of_rectangle(3,5))"
      ],
      "execution_count": null,
      "outputs": [
        {
          "output_type": "stream",
          "text": [
            "15\n"
          ],
          "name": "stdout"
        }
      ]
    }
  ]
}